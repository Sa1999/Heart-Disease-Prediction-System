{
 "cells": [
  {
   "cell_type": "markdown",
   "id": "a3ac96ee",
   "metadata": {},
   "source": [
    "# DATA COLLECTION AND DATA PREPARATION"
   ]
  },
  {
   "cell_type": "markdown",
   "id": "2106f53a",
   "metadata": {},
   "source": [
    "### Loading the libraries for the project"
   ]
  },
  {
   "cell_type": "code",
   "execution_count": 1,
   "id": "c3e93108",
   "metadata": {},
   "outputs": [],
   "source": [
    "import pandas as pd\n",
    "import numpy as np\n",
    "import matplotlib.pyplot as plt\n",
    "\n",
    "import seaborn as sns\n",
    "from sklearn.model_selection import train_test_split\n",
    "from sklearn import tree\n",
    "\n",
    "import os\n",
    "from pandas_profiling import ProfileReport\n",
    "from sklearn.feature_selection import SelectKBest\n",
    "from sklearn.feature_selection import chi2, f_classif\n",
    "from sklearn.model_selection import KFold\n",
    "from sklearn.feature_selection import SelectFromModel\n",
    "from sklearn.svm import LinearSVC\n",
    "\n",
    "from sklearn.model_selection import cross_val_score\n",
    "from sklearn.model_selection import cross_val_predict\n",
    "\n",
    "from sklearn.preprocessing import normalize\n",
    "from sklearn.preprocessing import StandardScaler, LabelEncoder, OneHotEncoder\n",
    "from sklearn.model_selection import train_test_split\n",
    "\n",
    "from sklearn.naive_bayes import GaussianNB\n",
    "from sklearn.linear_model import SGDClassifier, LogisticRegression\n",
    "from sklearn.neighbors import KNeighborsClassifier\n",
    "from sklearn.tree import DecisionTreeClassifier\n",
    "from sklearn.ensemble import RandomForestClassifier\n",
    "from sklearn.svm import SVC\n",
    "from sklearn.neural_network import MLPClassifier\n",
    "\n",
    "from xgboost import XGBClassifier\n",
    "from xgboost import XGBClassifier, XGBRFClassifier\n",
    "from xgboost import plot_tree, plot_importance\n",
    "\n",
    "from sklearn.metrics import classification_report, confusion_matrix, accuracy_score, roc_auc_score, roc_curve\n",
    "from sklearn import preprocessing\n",
    "from sklearn.model_selection import train_test_split\n",
    "from sklearn.feature_selection import RFE\n",
    "\n",
    "import warnings\n",
    "warnings.filterwarnings(\"ignore\")\n"
   ]
  },
  {
   "cell_type": "markdown",
   "id": "1511ebcc",
   "metadata": {},
   "source": [
    "### Loading the data"
   ]
  },
  {
   "cell_type": "code",
   "execution_count": 2,
   "id": "5d37dc13",
   "metadata": {},
   "outputs": [],
   "source": [
    "url=\"Heart_kaggle1.xlsx\"\n",
    "df =pd.read_excel(url)"
   ]
  },
  {
   "cell_type": "markdown",
   "id": "dbc17a7c",
   "metadata": {},
   "source": [
    "### Size of data set"
   ]
  },
  {
   "cell_type": "code",
   "execution_count": 3,
   "id": "22f0aa3a",
   "metadata": {},
   "outputs": [
    {
     "name": "stdout",
     "output_type": "stream",
     "text": [
      "Rows:  1025\n",
      "Column:  14\n"
     ]
    }
   ],
   "source": [
    "print(\"Rows: \",len(df))\n",
    "print(\"Column: \",df.shape[1])"
   ]
  },
  {
   "cell_type": "markdown",
   "id": "f726e170",
   "metadata": {},
   "source": [
    "### First 5 rows of the dataset"
   ]
  },
  {
   "cell_type": "code",
   "execution_count": 4,
   "id": "a5994ad8",
   "metadata": {
    "scrolled": true
   },
   "outputs": [
    {
     "data": {
      "text/html": [
       "<div>\n",
       "<style scoped>\n",
       "    .dataframe tbody tr th:only-of-type {\n",
       "        vertical-align: middle;\n",
       "    }\n",
       "\n",
       "    .dataframe tbody tr th {\n",
       "        vertical-align: top;\n",
       "    }\n",
       "\n",
       "    .dataframe thead th {\n",
       "        text-align: right;\n",
       "    }\n",
       "</style>\n",
       "<table border=\"1\" class=\"dataframe\">\n",
       "  <thead>\n",
       "    <tr style=\"text-align: right;\">\n",
       "      <th></th>\n",
       "      <th>age</th>\n",
       "      <th>sex</th>\n",
       "      <th>cp</th>\n",
       "      <th>trestbps</th>\n",
       "      <th>chol</th>\n",
       "      <th>fbs</th>\n",
       "      <th>restecg</th>\n",
       "      <th>thalach</th>\n",
       "      <th>exang</th>\n",
       "      <th>oldpeak</th>\n",
       "      <th>slope</th>\n",
       "      <th>ca</th>\n",
       "      <th>thal</th>\n",
       "      <th>target</th>\n",
       "    </tr>\n",
       "  </thead>\n",
       "  <tbody>\n",
       "    <tr>\n",
       "      <th>0</th>\n",
       "      <td>52</td>\n",
       "      <td>1</td>\n",
       "      <td>0</td>\n",
       "      <td>125</td>\n",
       "      <td>212</td>\n",
       "      <td>0</td>\n",
       "      <td>1</td>\n",
       "      <td>168</td>\n",
       "      <td>0</td>\n",
       "      <td>1.0</td>\n",
       "      <td>2</td>\n",
       "      <td>2</td>\n",
       "      <td>3</td>\n",
       "      <td>0</td>\n",
       "    </tr>\n",
       "    <tr>\n",
       "      <th>1</th>\n",
       "      <td>53</td>\n",
       "      <td>1</td>\n",
       "      <td>0</td>\n",
       "      <td>140</td>\n",
       "      <td>203</td>\n",
       "      <td>1</td>\n",
       "      <td>0</td>\n",
       "      <td>155</td>\n",
       "      <td>1</td>\n",
       "      <td>3.1</td>\n",
       "      <td>0</td>\n",
       "      <td>0</td>\n",
       "      <td>3</td>\n",
       "      <td>0</td>\n",
       "    </tr>\n",
       "    <tr>\n",
       "      <th>2</th>\n",
       "      <td>70</td>\n",
       "      <td>1</td>\n",
       "      <td>0</td>\n",
       "      <td>145</td>\n",
       "      <td>174</td>\n",
       "      <td>0</td>\n",
       "      <td>1</td>\n",
       "      <td>125</td>\n",
       "      <td>1</td>\n",
       "      <td>2.6</td>\n",
       "      <td>0</td>\n",
       "      <td>0</td>\n",
       "      <td>3</td>\n",
       "      <td>0</td>\n",
       "    </tr>\n",
       "    <tr>\n",
       "      <th>3</th>\n",
       "      <td>61</td>\n",
       "      <td>1</td>\n",
       "      <td>0</td>\n",
       "      <td>148</td>\n",
       "      <td>203</td>\n",
       "      <td>0</td>\n",
       "      <td>1</td>\n",
       "      <td>161</td>\n",
       "      <td>0</td>\n",
       "      <td>0.0</td>\n",
       "      <td>2</td>\n",
       "      <td>1</td>\n",
       "      <td>3</td>\n",
       "      <td>0</td>\n",
       "    </tr>\n",
       "    <tr>\n",
       "      <th>4</th>\n",
       "      <td>62</td>\n",
       "      <td>0</td>\n",
       "      <td>0</td>\n",
       "      <td>138</td>\n",
       "      <td>294</td>\n",
       "      <td>1</td>\n",
       "      <td>1</td>\n",
       "      <td>106</td>\n",
       "      <td>0</td>\n",
       "      <td>1.9</td>\n",
       "      <td>1</td>\n",
       "      <td>3</td>\n",
       "      <td>2</td>\n",
       "      <td>0</td>\n",
       "    </tr>\n",
       "  </tbody>\n",
       "</table>\n",
       "</div>"
      ],
      "text/plain": [
       "   age  sex  cp  trestbps  chol  fbs  restecg  thalach  exang  oldpeak  slope  \\\n",
       "0   52    1   0       125   212    0        1      168      0      1.0      2   \n",
       "1   53    1   0       140   203    1        0      155      1      3.1      0   \n",
       "2   70    1   0       145   174    0        1      125      1      2.6      0   \n",
       "3   61    1   0       148   203    0        1      161      0      0.0      2   \n",
       "4   62    0   0       138   294    1        1      106      0      1.9      1   \n",
       "\n",
       "   ca  thal  target  \n",
       "0   2     3       0  \n",
       "1   0     3       0  \n",
       "2   0     3       0  \n",
       "3   1     3       0  \n",
       "4   3     2       0  "
      ]
     },
     "execution_count": 4,
     "metadata": {},
     "output_type": "execute_result"
    }
   ],
   "source": [
    "df.head(5)"
   ]
  },
  {
   "cell_type": "markdown",
   "id": "2dfc8c43",
   "metadata": {},
   "source": [
    "### The statistical characteristics of the data"
   ]
  },
  {
   "cell_type": "code",
   "execution_count": 5,
   "id": "1e106b2c",
   "metadata": {
    "scrolled": true
   },
   "outputs": [
    {
     "data": {
      "text/html": [
       "<div>\n",
       "<style scoped>\n",
       "    .dataframe tbody tr th:only-of-type {\n",
       "        vertical-align: middle;\n",
       "    }\n",
       "\n",
       "    .dataframe tbody tr th {\n",
       "        vertical-align: top;\n",
       "    }\n",
       "\n",
       "    .dataframe thead th {\n",
       "        text-align: right;\n",
       "    }\n",
       "</style>\n",
       "<table border=\"1\" class=\"dataframe\">\n",
       "  <thead>\n",
       "    <tr style=\"text-align: right;\">\n",
       "      <th></th>\n",
       "      <th>age</th>\n",
       "      <th>sex</th>\n",
       "      <th>cp</th>\n",
       "      <th>trestbps</th>\n",
       "      <th>chol</th>\n",
       "      <th>fbs</th>\n",
       "      <th>restecg</th>\n",
       "      <th>thalach</th>\n",
       "      <th>exang</th>\n",
       "      <th>oldpeak</th>\n",
       "      <th>slope</th>\n",
       "      <th>ca</th>\n",
       "      <th>thal</th>\n",
       "      <th>target</th>\n",
       "    </tr>\n",
       "  </thead>\n",
       "  <tbody>\n",
       "    <tr>\n",
       "      <th>count</th>\n",
       "      <td>1025.000000</td>\n",
       "      <td>1025.000000</td>\n",
       "      <td>1025.000000</td>\n",
       "      <td>1025.000000</td>\n",
       "      <td>1025.00000</td>\n",
       "      <td>1025.000000</td>\n",
       "      <td>1025.000000</td>\n",
       "      <td>1025.000000</td>\n",
       "      <td>1025.000000</td>\n",
       "      <td>1025.000000</td>\n",
       "      <td>1025.000000</td>\n",
       "      <td>1025.000000</td>\n",
       "      <td>1025.000000</td>\n",
       "      <td>1025.000000</td>\n",
       "    </tr>\n",
       "    <tr>\n",
       "      <th>mean</th>\n",
       "      <td>54.434146</td>\n",
       "      <td>0.695610</td>\n",
       "      <td>0.942439</td>\n",
       "      <td>131.611707</td>\n",
       "      <td>246.00000</td>\n",
       "      <td>0.149268</td>\n",
       "      <td>0.529756</td>\n",
       "      <td>149.114146</td>\n",
       "      <td>0.336585</td>\n",
       "      <td>1.071512</td>\n",
       "      <td>1.385366</td>\n",
       "      <td>0.754146</td>\n",
       "      <td>2.323902</td>\n",
       "      <td>0.513171</td>\n",
       "    </tr>\n",
       "    <tr>\n",
       "      <th>std</th>\n",
       "      <td>9.072290</td>\n",
       "      <td>0.460373</td>\n",
       "      <td>1.029641</td>\n",
       "      <td>17.516718</td>\n",
       "      <td>51.59251</td>\n",
       "      <td>0.356527</td>\n",
       "      <td>0.527878</td>\n",
       "      <td>23.005724</td>\n",
       "      <td>0.472772</td>\n",
       "      <td>1.175053</td>\n",
       "      <td>0.617755</td>\n",
       "      <td>1.030798</td>\n",
       "      <td>0.620660</td>\n",
       "      <td>0.500070</td>\n",
       "    </tr>\n",
       "    <tr>\n",
       "      <th>min</th>\n",
       "      <td>29.000000</td>\n",
       "      <td>0.000000</td>\n",
       "      <td>0.000000</td>\n",
       "      <td>94.000000</td>\n",
       "      <td>126.00000</td>\n",
       "      <td>0.000000</td>\n",
       "      <td>0.000000</td>\n",
       "      <td>71.000000</td>\n",
       "      <td>0.000000</td>\n",
       "      <td>0.000000</td>\n",
       "      <td>0.000000</td>\n",
       "      <td>0.000000</td>\n",
       "      <td>0.000000</td>\n",
       "      <td>0.000000</td>\n",
       "    </tr>\n",
       "    <tr>\n",
       "      <th>25%</th>\n",
       "      <td>48.000000</td>\n",
       "      <td>0.000000</td>\n",
       "      <td>0.000000</td>\n",
       "      <td>120.000000</td>\n",
       "      <td>211.00000</td>\n",
       "      <td>0.000000</td>\n",
       "      <td>0.000000</td>\n",
       "      <td>132.000000</td>\n",
       "      <td>0.000000</td>\n",
       "      <td>0.000000</td>\n",
       "      <td>1.000000</td>\n",
       "      <td>0.000000</td>\n",
       "      <td>2.000000</td>\n",
       "      <td>0.000000</td>\n",
       "    </tr>\n",
       "    <tr>\n",
       "      <th>50%</th>\n",
       "      <td>56.000000</td>\n",
       "      <td>1.000000</td>\n",
       "      <td>1.000000</td>\n",
       "      <td>130.000000</td>\n",
       "      <td>240.00000</td>\n",
       "      <td>0.000000</td>\n",
       "      <td>1.000000</td>\n",
       "      <td>152.000000</td>\n",
       "      <td>0.000000</td>\n",
       "      <td>0.800000</td>\n",
       "      <td>1.000000</td>\n",
       "      <td>0.000000</td>\n",
       "      <td>2.000000</td>\n",
       "      <td>1.000000</td>\n",
       "    </tr>\n",
       "    <tr>\n",
       "      <th>75%</th>\n",
       "      <td>61.000000</td>\n",
       "      <td>1.000000</td>\n",
       "      <td>2.000000</td>\n",
       "      <td>140.000000</td>\n",
       "      <td>275.00000</td>\n",
       "      <td>0.000000</td>\n",
       "      <td>1.000000</td>\n",
       "      <td>166.000000</td>\n",
       "      <td>1.000000</td>\n",
       "      <td>1.800000</td>\n",
       "      <td>2.000000</td>\n",
       "      <td>1.000000</td>\n",
       "      <td>3.000000</td>\n",
       "      <td>1.000000</td>\n",
       "    </tr>\n",
       "    <tr>\n",
       "      <th>max</th>\n",
       "      <td>77.000000</td>\n",
       "      <td>1.000000</td>\n",
       "      <td>3.000000</td>\n",
       "      <td>200.000000</td>\n",
       "      <td>564.00000</td>\n",
       "      <td>1.000000</td>\n",
       "      <td>2.000000</td>\n",
       "      <td>202.000000</td>\n",
       "      <td>1.000000</td>\n",
       "      <td>6.200000</td>\n",
       "      <td>2.000000</td>\n",
       "      <td>4.000000</td>\n",
       "      <td>3.000000</td>\n",
       "      <td>1.000000</td>\n",
       "    </tr>\n",
       "  </tbody>\n",
       "</table>\n",
       "</div>"
      ],
      "text/plain": [
       "               age          sex           cp     trestbps        chol  \\\n",
       "count  1025.000000  1025.000000  1025.000000  1025.000000  1025.00000   \n",
       "mean     54.434146     0.695610     0.942439   131.611707   246.00000   \n",
       "std       9.072290     0.460373     1.029641    17.516718    51.59251   \n",
       "min      29.000000     0.000000     0.000000    94.000000   126.00000   \n",
       "25%      48.000000     0.000000     0.000000   120.000000   211.00000   \n",
       "50%      56.000000     1.000000     1.000000   130.000000   240.00000   \n",
       "75%      61.000000     1.000000     2.000000   140.000000   275.00000   \n",
       "max      77.000000     1.000000     3.000000   200.000000   564.00000   \n",
       "\n",
       "               fbs      restecg      thalach        exang      oldpeak  \\\n",
       "count  1025.000000  1025.000000  1025.000000  1025.000000  1025.000000   \n",
       "mean      0.149268     0.529756   149.114146     0.336585     1.071512   \n",
       "std       0.356527     0.527878    23.005724     0.472772     1.175053   \n",
       "min       0.000000     0.000000    71.000000     0.000000     0.000000   \n",
       "25%       0.000000     0.000000   132.000000     0.000000     0.000000   \n",
       "50%       0.000000     1.000000   152.000000     0.000000     0.800000   \n",
       "75%       0.000000     1.000000   166.000000     1.000000     1.800000   \n",
       "max       1.000000     2.000000   202.000000     1.000000     6.200000   \n",
       "\n",
       "             slope           ca         thal       target  \n",
       "count  1025.000000  1025.000000  1025.000000  1025.000000  \n",
       "mean      1.385366     0.754146     2.323902     0.513171  \n",
       "std       0.617755     1.030798     0.620660     0.500070  \n",
       "min       0.000000     0.000000     0.000000     0.000000  \n",
       "25%       1.000000     0.000000     2.000000     0.000000  \n",
       "50%       1.000000     0.000000     2.000000     1.000000  \n",
       "75%       2.000000     1.000000     3.000000     1.000000  \n",
       "max       2.000000     4.000000     3.000000     1.000000  "
      ]
     },
     "execution_count": 5,
     "metadata": {},
     "output_type": "execute_result"
    }
   ],
   "source": [
    "df.describe()"
   ]
  },
  {
   "cell_type": "markdown",
   "id": "8598c075",
   "metadata": {},
   "source": [
    "### Finding out Missing values"
   ]
  },
  {
   "cell_type": "code",
   "execution_count": 6,
   "id": "aff65cff",
   "metadata": {},
   "outputs": [
    {
     "data": {
      "text/plain": [
       "age         0\n",
       "sex         0\n",
       "cp          0\n",
       "trestbps    0\n",
       "chol        0\n",
       "fbs         0\n",
       "restecg     0\n",
       "thalach     0\n",
       "exang       0\n",
       "oldpeak     0\n",
       "slope       0\n",
       "ca          0\n",
       "thal        0\n",
       "target      0\n",
       "dtype: int64"
      ]
     },
     "execution_count": 6,
     "metadata": {},
     "output_type": "execute_result"
    }
   ],
   "source": [
    "df.isnull().sum()"
   ]
  },
  {
   "cell_type": "markdown",
   "id": "b1c8a7ca",
   "metadata": {},
   "source": [
    "### Total percentage of missing data"
   ]
  },
  {
   "cell_type": "code",
   "execution_count": 7,
   "id": "1cf35a80",
   "metadata": {},
   "outputs": [
    {
     "name": "stdout",
     "output_type": "stream",
     "text": [
      "The total percentage of missing data is 0.0%\n"
     ]
    }
   ],
   "source": [
    "missing_data = df.isnull().sum()\n",
    "total_percentage = (missing_data.sum()/df.shape[0]) * 100\n",
    "print(f'The total percentage of missing data is {round(total_percentage,2)}%')"
   ]
  },
  {
   "cell_type": "markdown",
   "id": "adf8f503",
   "metadata": {},
   "source": [
    "### Values in the database"
   ]
  },
  {
   "cell_type": "code",
   "execution_count": 8,
   "id": "a619fe18",
   "metadata": {},
   "outputs": [
    {
     "name": "stdout",
     "output_type": "stream",
     "text": [
      "==============================\n",
      "age : [52 53 70 61 62 58 55 46 54 71 43 34 51 50 60 67 45 63 42 44 56 57 59 64\n",
      " 65 41 66 38 49 48 29 37 47 68 76 40 39 77 69 35 74]\n",
      "==============================\n",
      "sex : [1 0]\n",
      "==============================\n",
      "cp : [0 1 2 3]\n",
      "==============================\n",
      "trestbps : [125 140 145 148 138 100 114 160 120 122 112 132 118 128 124 106 104 135\n",
      " 130 136 180 129 150 178 146 117 152 154 170 134 174 144 108 123 110 142\n",
      " 126 192 115  94 200 165 102 105 155 172 164 156 101]\n",
      "==============================\n",
      "chol : [212 203 174 294 248 318 289 249 286 149 341 210 298 204 308 266 244 211\n",
      " 185 223 208 252 209 307 233 319 256 327 169 131 269 196 231 213 271 263\n",
      " 229 360 258 330 342 226 228 278 230 283 241 175 188 217 193 245 232 299\n",
      " 288 197 315 215 164 326 207 177 257 255 187 201 220 268 267 236 303 282\n",
      " 126 309 186 275 281 206 335 218 254 295 417 260 240 302 192 225 325 235\n",
      " 274 234 182 167 172 321 300 199 564 157 304 222 184 354 160 247 239 246\n",
      " 409 293 180 250 221 200 227 243 311 261 242 205 306 219 353 198 394 183\n",
      " 237 224 265 313 340 259 270 216 264 276 322 214 273 253 176 284 305 168\n",
      " 407 290 277 262 195 166 178 141]\n",
      "==============================\n",
      "fbs : [0 1]\n",
      "==============================\n",
      "restecg : [1 0 2]\n",
      "==============================\n",
      "thalach : [168 155 125 161 106 122 140 145 144 116 136 192 156 142 109 162 165 148\n",
      " 172 173 146 179 152 117 115 112 163 147 182 105 150 151 169 166 178 132\n",
      " 160 123 139 111 180 164 202 157 159 170 138 175 158 126 143 141 167  95\n",
      " 190 118 103 181 108 177 134 120 171 149 154 153  88 174 114 195 133  96\n",
      " 124 131 185 194 128 127 186 184 188 130  71 137  99 121 187  97  90 129\n",
      " 113]\n",
      "==============================\n",
      "exang : [0 1]\n",
      "==============================\n",
      "oldpeak : [1.  3.1 2.6 0.  1.9 4.4 0.8 3.2 1.6 3.  0.7 4.2 1.5 2.2 1.1 0.3 0.4 0.6\n",
      " 3.4 2.8 1.2 2.9 3.6 1.4 0.2 2.  5.6 0.9 1.8 6.2 4.  2.5 0.5 0.1 2.1 2.4\n",
      " 3.8 2.3 1.3 3.5]\n",
      "==============================\n",
      "slope : [2 0 1]\n",
      "==============================\n",
      "ca : [2 0 1 3 4]\n",
      "==============================\n",
      "thal : [3 2 1 0]\n",
      "==============================\n",
      "target : [0 1]\n"
     ]
    }
   ],
   "source": [
    "categorical_val = []\n",
    "continous_val = []\n",
    "for column in df.columns:\n",
    "    print('==============================')\n",
    "    print(f\"{column} : {df[column].unique()}\")\n",
    "    if len(df[column].unique()) <= 10:\n",
    "        categorical_val.append(column)\n",
    "    else:\n",
    "        continous_val.append(column)"
   ]
  },
  {
   "cell_type": "markdown",
   "id": "063492b5",
   "metadata": {},
   "source": [
    "### Attributes in the dataset"
   ]
  },
  {
   "cell_type": "code",
   "execution_count": 9,
   "id": "60b76335",
   "metadata": {},
   "outputs": [
    {
     "data": {
      "text/plain": [
       "['sex', 'cp', 'fbs', 'restecg', 'exang', 'slope', 'ca', 'thal', 'target']"
      ]
     },
     "execution_count": 9,
     "metadata": {},
     "output_type": "execute_result"
    }
   ],
   "source": [
    "categorical_val"
   ]
  },
  {
   "cell_type": "markdown",
   "id": "c1e6e868",
   "metadata": {},
   "source": [
    "# EXPLORATORY DATA ANALYSIS"
   ]
  },
  {
   "cell_type": "markdown",
   "id": "6a446fc8",
   "metadata": {},
   "source": [
    "### Case Counts"
   ]
  },
  {
   "cell_type": "code",
   "execution_count": 10,
   "id": "4d438386",
   "metadata": {},
   "outputs": [
    {
     "data": {
      "image/png": "[encoded data removed]",
      "text/plain": [
       "<Figure size 432x288 with 1 Axes>"
      ]
     },
     "metadata": {
      "needs_background": "light"
     },
     "output_type": "display_data"
    },
    {
     "name": "stdout",
     "output_type": "stream",
     "text": [
      "There are 499 patients without heart disease and 526 patients with the disease\n"
     ]
    }
   ],
   "source": [
    "sns.countplot(x='target',data=df)\n",
    "plt.show()\n",
    "cases = df.target.value_counts()\n",
    "print(f\"There are {cases[0]} patients without heart disease and {cases[1]} patients with the disease\")"
   ]
  },
  {
   "cell_type": "markdown",
   "id": "17c84868",
   "metadata": {},
   "source": [
    "### Number of people who have disease vs age"
   ]
  },
  {
   "cell_type": "code",
   "execution_count": 11,
   "id": "cce8916f",
   "metadata": {},
   "outputs": [
    {
     "data": {
      "image/png": "[encoded data removed]",
      "text/plain": [
       "<Figure size 1080x432 with 1 Axes>"
      ]
     },
     "metadata": {
      "needs_background": "light"
     },
     "output_type": "display_data"
    }
   ],
   "source": [
    "plt.figure(figsize=(15,6))\n",
    "sns.countplot(x='age',data = df, hue = 'target',palette='husl')\n",
    "plt.show()"
   ]
  },
  {
   "cell_type": "markdown",
   "id": "b0d8f1dc",
   "metadata": {},
   "source": [
    "### Age Distribution "
   ]
  },
  {
   "cell_type": "code",
   "execution_count": 12,
   "id": "dfce8025",
   "metadata": {},
   "outputs": [
    {
     "data": {
      "text/plain": [
       "Text(0.5, 1.0, 'Age distribution.')"
      ]
     },
     "execution_count": 12,
     "metadata": {},
     "output_type": "execute_result"
    },
    {
     "data": {
      "image/png": "[encoded data removed]",
      "text/plain": [
       "<Figure size 432x288 with 1 Axes>"
      ]
     },
     "metadata": {
      "needs_background": "light"
     },
     "output_type": "display_data"
    }
   ],
   "source": [
    "plt.hist(df['age'])\n",
    "plt.xlabel('Age')\n",
    "plt.ylabel('Count')\n",
    "plt.title('Age distribution.')"
   ]
  },
  {
   "cell_type": "markdown",
   "id": "363758ff",
   "metadata": {},
   "source": [
    "#### From the Age Distribution Graph above obtained we observe that people between the age 40 and 70 are more likely to get to have heart diseases."
   ]
  },
  {
   "cell_type": "markdown",
   "id": "067aff2f",
   "metadata": {},
   "source": [
    "### Gender vs Frequency barplot"
   ]
  },
  {
   "cell_type": "code",
   "execution_count": 13,
   "id": "903f76ad",
   "metadata": {},
   "outputs": [
    {
     "data": {
      "text/plain": [
       "<AxesSubplot:xlabel='Sex', ylabel='Frequency'>"
      ]
     },
     "execution_count": 13,
     "metadata": {},
     "output_type": "execute_result"
    },
    {
     "data": {
      "image/png": "[encoded data removed]",
      "text/plain": [
       "<Figure size 432x288 with 1 Axes>"
      ]
     },
     "metadata": {
      "needs_background": "light"
     },
     "output_type": "display_data"
    }
   ],
   "source": [
    "plt.xlabel('Sex')\n",
    "plt.ylabel('Frequency')\n",
    "df['sex'].value_counts().plot.bar()"
   ]
  },
  {
   "cell_type": "markdown",
   "id": "23e92c0c",
   "metadata": {},
   "source": [
    "### Investigating age values"
   ]
  },
  {
   "cell_type": "code",
   "execution_count": 14,
   "id": "0f8889dd",
   "metadata": {},
   "outputs": [
    {
     "name": "stdout",
     "output_type": "stream",
     "text": [
      "Min Age : 29\n",
      "Max Age : 77\n",
      "Mean Age : 54.43414634146342\n"
     ]
    }
   ],
   "source": [
    "minAge=min(df.age)\n",
    "maxAge=max(df.age)\n",
    "meanAge=df.age.mean()\n",
    "print('Min Age :',minAge)\n",
    "print('Max Age :',maxAge)\n",
    "print('Mean Age :',meanAge)"
   ]
  },
  {
   "cell_type": "markdown",
   "id": "5a40c3b8",
   "metadata": {},
   "source": [
    "### Splitting the data on basis on the presence and absence of heart disease"
   ]
  },
  {
   "cell_type": "code",
   "execution_count": 15,
   "id": "edba89f4",
   "metadata": {},
   "outputs": [],
   "source": [
    "presence = df[df['target']==1]\n",
    "absence = df[df['target']==0]"
   ]
  },
  {
   "cell_type": "code",
   "execution_count": 16,
   "id": "37f96dd0",
   "metadata": {},
   "outputs": [
    {
     "data": {
      "text/html": [
       "<div>\n",
       "<style scoped>\n",
       "    .dataframe tbody tr th:only-of-type {\n",
       "        vertical-align: middle;\n",
       "    }\n",
       "\n",
       "    .dataframe tbody tr th {\n",
       "        vertical-align: top;\n",
       "    }\n",
       "\n",
       "    .dataframe thead th {\n",
       "        text-align: right;\n",
       "    }\n",
       "</style>\n",
       "<table border=\"1\" class=\"dataframe\">\n",
       "  <thead>\n",
       "    <tr style=\"text-align: right;\">\n",
       "      <th></th>\n",
       "      <th>age</th>\n",
       "      <th>sex</th>\n",
       "      <th>cp</th>\n",
       "      <th>trestbps</th>\n",
       "      <th>chol</th>\n",
       "      <th>fbs</th>\n",
       "      <th>restecg</th>\n",
       "      <th>thalach</th>\n",
       "      <th>exang</th>\n",
       "      <th>oldpeak</th>\n",
       "      <th>slope</th>\n",
       "      <th>ca</th>\n",
       "      <th>thal</th>\n",
       "      <th>target</th>\n",
       "    </tr>\n",
       "  </thead>\n",
       "  <tbody>\n",
       "    <tr>\n",
       "      <th>5</th>\n",
       "      <td>58</td>\n",
       "      <td>0</td>\n",
       "      <td>0</td>\n",
       "      <td>100</td>\n",
       "      <td>248</td>\n",
       "      <td>0</td>\n",
       "      <td>0</td>\n",
       "      <td>122</td>\n",
       "      <td>0</td>\n",
       "      <td>1.0</td>\n",
       "      <td>1</td>\n",
       "      <td>0</td>\n",
       "      <td>2</td>\n",
       "      <td>1</td>\n",
       "    </tr>\n",
       "    <tr>\n",
       "      <th>16</th>\n",
       "      <td>51</td>\n",
       "      <td>0</td>\n",
       "      <td>2</td>\n",
       "      <td>140</td>\n",
       "      <td>308</td>\n",
       "      <td>0</td>\n",
       "      <td>0</td>\n",
       "      <td>142</td>\n",
       "      <td>0</td>\n",
       "      <td>1.5</td>\n",
       "      <td>2</td>\n",
       "      <td>1</td>\n",
       "      <td>2</td>\n",
       "      <td>1</td>\n",
       "    </tr>\n",
       "    <tr>\n",
       "      <th>18</th>\n",
       "      <td>50</td>\n",
       "      <td>0</td>\n",
       "      <td>1</td>\n",
       "      <td>120</td>\n",
       "      <td>244</td>\n",
       "      <td>0</td>\n",
       "      <td>1</td>\n",
       "      <td>162</td>\n",
       "      <td>0</td>\n",
       "      <td>1.1</td>\n",
       "      <td>2</td>\n",
       "      <td>0</td>\n",
       "      <td>2</td>\n",
       "      <td>1</td>\n",
       "    </tr>\n",
       "    <tr>\n",
       "      <th>19</th>\n",
       "      <td>58</td>\n",
       "      <td>1</td>\n",
       "      <td>2</td>\n",
       "      <td>140</td>\n",
       "      <td>211</td>\n",
       "      <td>1</td>\n",
       "      <td>0</td>\n",
       "      <td>165</td>\n",
       "      <td>0</td>\n",
       "      <td>0.0</td>\n",
       "      <td>2</td>\n",
       "      <td>0</td>\n",
       "      <td>2</td>\n",
       "      <td>1</td>\n",
       "    </tr>\n",
       "    <tr>\n",
       "      <th>21</th>\n",
       "      <td>67</td>\n",
       "      <td>0</td>\n",
       "      <td>0</td>\n",
       "      <td>106</td>\n",
       "      <td>223</td>\n",
       "      <td>0</td>\n",
       "      <td>1</td>\n",
       "      <td>142</td>\n",
       "      <td>0</td>\n",
       "      <td>0.3</td>\n",
       "      <td>2</td>\n",
       "      <td>2</td>\n",
       "      <td>2</td>\n",
       "      <td>1</td>\n",
       "    </tr>\n",
       "    <tr>\n",
       "      <th>...</th>\n",
       "      <td>...</td>\n",
       "      <td>...</td>\n",
       "      <td>...</td>\n",
       "      <td>...</td>\n",
       "      <td>...</td>\n",
       "      <td>...</td>\n",
       "      <td>...</td>\n",
       "      <td>...</td>\n",
       "      <td>...</td>\n",
       "      <td>...</td>\n",
       "      <td>...</td>\n",
       "      <td>...</td>\n",
       "      <td>...</td>\n",
       "      <td>...</td>\n",
       "    </tr>\n",
       "    <tr>\n",
       "      <th>1011</th>\n",
       "      <td>45</td>\n",
       "      <td>1</td>\n",
       "      <td>1</td>\n",
       "      <td>128</td>\n",
       "      <td>308</td>\n",
       "      <td>0</td>\n",
       "      <td>0</td>\n",
       "      <td>170</td>\n",
       "      <td>0</td>\n",
       "      <td>0.0</td>\n",
       "      <td>2</td>\n",
       "      <td>0</td>\n",
       "      <td>2</td>\n",
       "      <td>1</td>\n",
       "    </tr>\n",
       "    <tr>\n",
       "      <th>1014</th>\n",
       "      <td>44</td>\n",
       "      <td>0</td>\n",
       "      <td>2</td>\n",
       "      <td>108</td>\n",
       "      <td>141</td>\n",
       "      <td>0</td>\n",
       "      <td>1</td>\n",
       "      <td>175</td>\n",
       "      <td>0</td>\n",
       "      <td>0.6</td>\n",
       "      <td>1</td>\n",
       "      <td>0</td>\n",
       "      <td>2</td>\n",
       "      <td>1</td>\n",
       "    </tr>\n",
       "    <tr>\n",
       "      <th>1019</th>\n",
       "      <td>47</td>\n",
       "      <td>1</td>\n",
       "      <td>0</td>\n",
       "      <td>112</td>\n",
       "      <td>204</td>\n",
       "      <td>0</td>\n",
       "      <td>1</td>\n",
       "      <td>143</td>\n",
       "      <td>0</td>\n",
       "      <td>0.1</td>\n",
       "      <td>2</td>\n",
       "      <td>0</td>\n",
       "      <td>2</td>\n",
       "      <td>1</td>\n",
       "    </tr>\n",
       "    <tr>\n",
       "      <th>1020</th>\n",
       "      <td>59</td>\n",
       "      <td>1</td>\n",
       "      <td>1</td>\n",
       "      <td>140</td>\n",
       "      <td>221</td>\n",
       "      <td>0</td>\n",
       "      <td>1</td>\n",
       "      <td>164</td>\n",
       "      <td>1</td>\n",
       "      <td>0.0</td>\n",
       "      <td>2</td>\n",
       "      <td>0</td>\n",
       "      <td>2</td>\n",
       "      <td>1</td>\n",
       "    </tr>\n",
       "    <tr>\n",
       "      <th>1023</th>\n",
       "      <td>50</td>\n",
       "      <td>0</td>\n",
       "      <td>0</td>\n",
       "      <td>110</td>\n",
       "      <td>254</td>\n",
       "      <td>0</td>\n",
       "      <td>0</td>\n",
       "      <td>159</td>\n",
       "      <td>0</td>\n",
       "      <td>0.0</td>\n",
       "      <td>2</td>\n",
       "      <td>0</td>\n",
       "      <td>2</td>\n",
       "      <td>1</td>\n",
       "    </tr>\n",
       "  </tbody>\n",
       "</table>\n",
       "<p>461 rows × 14 columns</p>\n",
       "</div>"
      ],
      "text/plain": [
       "      age  sex  cp  trestbps  chol  fbs  restecg  thalach  exang  oldpeak  \\\n",
       "5      58    0   0       100   248    0        0      122      0      1.0   \n",
       "16     51    0   2       140   308    0        0      142      0      1.5   \n",
       "18     50    0   1       120   244    0        1      162      0      1.1   \n",
       "19     58    1   2       140   211    1        0      165      0      0.0   \n",
       "21     67    0   0       106   223    0        1      142      0      0.3   \n",
       "...   ...  ...  ..       ...   ...  ...      ...      ...    ...      ...   \n",
       "1011   45    1   1       128   308    0        0      170      0      0.0   \n",
       "1014   44    0   2       108   141    0        1      175      0      0.6   \n",
       "1019   47    1   0       112   204    0        1      143      0      0.1   \n",
       "1020   59    1   1       140   221    0        1      164      1      0.0   \n",
       "1023   50    0   0       110   254    0        0      159      0      0.0   \n",
       "\n",
       "      slope  ca  thal  target  \n",
       "5         1   0     2       1  \n",
       "16        2   1     2       1  \n",
       "18        2   0     2       1  \n",
       "19        2   0     2       1  \n",
       "21        2   2     2       1  \n",
       "...     ...  ..   ...     ...  \n",
       "1011      2   0     2       1  \n",
       "1014      1   0     2       1  \n",
       "1019      2   0     2       1  \n",
       "1020      2   0     2       1  \n",
       "1023      2   0     2       1  \n",
       "\n",
       "[461 rows x 14 columns]"
      ]
     },
     "execution_count": 16,
     "metadata": {},
     "output_type": "execute_result"
    }
   ],
   "source": [
    "check = presence[presence['age']>40]\n",
    "check = check[check['age']<70]\n",
    "check"
   ]
  },
  {
   "cell_type": "code",
   "execution_count": 17,
   "id": "bc326e71",
   "metadata": {},
   "outputs": [],
   "source": [
    "male = check[check['sex']==1]\n",
    "female = check[check['sex']==0]"
   ]
  },
  {
   "cell_type": "markdown",
   "id": "d79b1e68",
   "metadata": {},
   "source": [
    "### Number of people within the range of 40<age<70"
   ]
  },
  {
   "cell_type": "code",
   "execution_count": 18,
   "id": "960db412",
   "metadata": {},
   "outputs": [
    {
     "data": {
      "image/png": "[encoded data removed]",
      "text/plain": [
       "<Figure size 432x288 with 1 Axes>"
      ]
     },
     "metadata": {
      "needs_background": "light"
     },
     "output_type": "display_data"
    }
   ],
   "source": [
    "plt.xlabel('Sex')\n",
    "plt.ylabel('Frequency')\n",
    "check['sex'].value_counts().plot.bar()\n",
    "plt.show()"
   ]
  },
  {
   "cell_type": "markdown",
   "id": "a572a186",
   "metadata": {},
   "source": [
    "#### From the above data analysis we can observe that the percentage of men have more possibility of having heart disease as compared to women."
   ]
  },
  {
   "cell_type": "markdown",
   "id": "2b4d7cc4",
   "metadata": {},
   "source": [
    "### Observation of different attributes"
   ]
  },
  {
   "cell_type": "code",
   "execution_count": 19,
   "id": "4a65b50c",
   "metadata": {},
   "outputs": [
    {
     "data": {
      "text/plain": [
       "(461, 14)"
      ]
     },
     "execution_count": 19,
     "metadata": {},
     "output_type": "execute_result"
    }
   ],
   "source": [
    "check.shape"
   ]
  },
  {
   "cell_type": "code",
   "execution_count": 20,
   "id": "fabd46b5",
   "metadata": {},
   "outputs": [
    {
     "name": "stdout",
     "output_type": "stream",
     "text": [
      "GENDER\n",
      "Gender\n",
      "Female = 192\n",
      "Male = 269\n",
      "\n",
      "CHEST PAIN\n",
      "Chest Pain\n",
      "Typical = 114\n",
      "Atypical = 114\n",
      "Non-anginal = 188\n",
      "asymptomatic = 45\n",
      "\n",
      "FASTING BLOOD SUGAR\n",
      "Fasting Blood Sugar >120 mg/dL\n",
      "False = 394\n",
      "True = 67\n",
      "\n",
      "EXERCISE INDUCED ANGINA\n",
      "Yes = 396\n",
      "No = 65\n"
     ]
    }
   ],
   "source": [
    "print(f\"GENDER\")\n",
    "cases = check.sex.value_counts()\n",
    "print(f\"Gender\")\n",
    "print(f\"Female = {cases[0]}\\nMale = {cases[1]}\\n\")\n",
    "\n",
    "print(f\"CHEST PAIN\")\n",
    "cases = check.cp.value_counts()\n",
    "print(f\"Chest Pain\")\n",
    "print(f\"Typical = {cases[0]}\\nAtypical = {cases[1]}\\nNon-anginal = {cases[2]}\\nasymptomatic = {cases[3]}\\n\")\n",
    "\n",
    "print(f\"FASTING BLOOD SUGAR\")\n",
    "cases = check.fbs.value_counts()\n",
    "print(f\"Fasting Blood Sugar >120 mg/dL\")\n",
    "print(f\"False = {cases[0]}\\nTrue = {cases[1]}\\n\")\n",
    "\n",
    "print(f\"EXERCISE INDUCED ANGINA\")\n",
    "cases = check.exang.value_counts()\n",
    "print(f\"Yes = {cases[0]}\\nNo = {cases[1]}\")\n"
   ]
  },
  {
   "cell_type": "markdown",
   "id": "a34e1bb7",
   "metadata": {},
   "source": [
    "#### From this analysis we can observe that men have more chances of getting the heart disease. We also see that people with non-anginal type of chest pain has high probability having heart disease as compared to other. It is also seen that majority og people have their fasting blood sugar level under 120 mg/dL. It can also be detected that more than 80% of heart diseases are due to exercise induced angina."
   ]
  },
  {
   "cell_type": "markdown",
   "id": "3650b9e7",
   "metadata": {},
   "source": [
    "### Resting Blood Pressure"
   ]
  },
  {
   "cell_type": "code",
   "execution_count": 21,
   "id": "688677e0",
   "metadata": {},
   "outputs": [
    {
     "data": {
      "image/png": "[encoded data removed]",
      "text/plain": [
       "<Figure size 432x288 with 1 Axes>"
      ]
     },
     "metadata": {
      "needs_background": "light"
     },
     "output_type": "display_data"
    },
    {
     "name": "stdout",
     "output_type": "stream",
     "text": [
      "Minimum Resting Blood Pressure: 94\n",
      "Maximum Resting Blood Pressure: 180\n",
      "High blood pressure count =  293\n",
      "Low blood pressure count =  0\n"
     ]
    }
   ],
   "source": [
    "x=check['age']\n",
    "y=check['trestbps']\n",
    "plt.bar(x,y)\n",
    "plt.show()\n",
    "\n",
    "mincp=min(check.trestbps)\n",
    "maxcp=max(check.trestbps)\n",
    "print('Minimum Resting Blood Pressure:',mincp)\n",
    "print('Maximum Resting Blood Pressure:',maxcp)\n",
    "cases = check.trestbps.value_counts()\n",
    "count = 0\n",
    "for i in check['trestbps'] :\n",
    "    if i > 120 :\n",
    "        count = count+1\n",
    "print(f\"High blood pressure count = \",count)\n",
    "\n",
    "count = 0\n",
    "for i in check['trestbps'] :\n",
    "    if i <80 :\n",
    "        count = count+1\n",
    "print(f\"Low blood pressure count = \",count)"
   ]
  },
  {
   "cell_type": "code",
   "execution_count": 22,
   "id": "1c00fe28",
   "metadata": {},
   "outputs": [
    {
     "data": {
      "image/png": "[encoded data removed]",
      "text/plain": [
       "<Figure size 432x288 with 1 Axes>"
      ]
     },
     "metadata": {
      "needs_background": "light"
     },
     "output_type": "display_data"
    }
   ],
   "source": [
    "plt.scatter(x=df.age[df.target==1], y=df.trestbps[(df.target==1)], c=\"red\")\n",
    "plt.scatter(x=df.age[df.target==0], y=df.trestbps[(df.target==0)], c=\"green\")\n",
    "plt.legend([\"Disease\", \"Not Disease\"])\n",
    "plt.xlabel(\"Age\")\n",
    "plt.ylabel(\"Resting Blood Pressure\")\n",
    "plt.show()"
   ]
  },
  {
   "cell_type": "markdown",
   "id": "bdb09eaf",
   "metadata": {},
   "source": [
    "#### The normal resting blood pressure is 120 md/dL. From the information we can also see that people have high blood pressure who have a posibility of getting a heart disease. "
   ]
  },
  {
   "cell_type": "markdown",
   "id": "b81108d6",
   "metadata": {},
   "source": [
    "### Serum Cholestoral levels "
   ]
  },
  {
   "cell_type": "code",
   "execution_count": 23,
   "id": "5d122132",
   "metadata": {},
   "outputs": [
    {
     "data": {
      "image/png": "[encoded data removed]",
      "text/plain": [
       "<Figure size 432x288 with 1 Axes>"
      ]
     },
     "metadata": {
      "needs_background": "light"
     },
     "output_type": "display_data"
    },
    {
     "name": "stdout",
     "output_type": "stream",
     "text": [
      "Minimum Serum cholestoral: 126\n",
      "Maximum Serum cholestoral: 564\n",
      "Higher Serum Cholestoral count =  394\n"
     ]
    }
   ],
   "source": [
    "x=check['age']\n",
    "y=check['chol']\n",
    "plt.bar(x,y)\n",
    "plt.show()\n",
    "\n",
    "mincp=min(check.chol)\n",
    "maxcp=max(check.chol)\n",
    "print('Minimum Serum cholestoral:',mincp)\n",
    "print('Maximum Serum cholestoral:',maxcp)\n",
    "\n",
    "count = 0\n",
    "for i in check['chol'] :\n",
    "    if i > 200 :\n",
    "        count = count+1\n",
    "print(f\"Higher Serum Cholestoral count = \",count)\n"
   ]
  },
  {
   "cell_type": "code",
   "execution_count": 24,
   "id": "33edf9b6",
   "metadata": {},
   "outputs": [
    {
     "data": {
      "image/png": "[encoded data removed]",
      "text/plain": [
       "<Figure size 432x288 with 1 Axes>"
      ]
     },
     "metadata": {
      "needs_background": "light"
     },
     "output_type": "display_data"
    }
   ],
   "source": [
    "plt.scatter(x=df.age[df.target==1], y=df.chol[(df.target==1)], c=\"red\")\n",
    "plt.scatter(x=df.age[df.target==0], y=df.chol[(df.target==0)], c=\"green\")\n",
    "plt.legend([\"Disease\", \"Not Disease\"])\n",
    "plt.xlabel(\"Age\")\n",
    "plt.ylabel(\"Serum cholestoral in mg/dl\")\n",
    "plt.show()"
   ]
  },
  {
   "cell_type": "markdown",
   "id": "0463c14b",
   "metadata": {},
   "source": [
    "#### The Serum Cholestoral level of a healthy person is 125 mg/dL - 200 mg/dL. From the information we can observe that people have higher serum cholestrol  level who have a posibility of getting a heart disease. "
   ]
  },
  {
   "cell_type": "markdown",
   "id": "926b548c",
   "metadata": {},
   "source": [
    "### Maximum Heart Rate"
   ]
  },
  {
   "cell_type": "code",
   "execution_count": 25,
   "id": "e5746e41",
   "metadata": {},
   "outputs": [
    {
     "data": {
      "image/png": "[encoded data removed]",
      "text/plain": [
       "<Figure size 432x288 with 1 Axes>"
      ]
     },
     "metadata": {
      "needs_background": "light"
     },
     "output_type": "display_data"
    },
    {
     "name": "stdout",
     "output_type": "stream",
     "text": [
      "Minimum heart rate: 96\n",
      "Maximum heat rate: 194\n",
      "Higher heart rate count =  461\n"
     ]
    }
   ],
   "source": [
    "x=check['age']\n",
    "y=check['thalach']\n",
    "plt.bar(x,y)\n",
    "plt.show()\n",
    "\n",
    "mincp=min(check.thalach)\n",
    "maxcp=max(check.thalach)\n",
    "print('Minimum heart rate:',mincp)\n",
    "print('Maximum heat rate:',maxcp)\n",
    "\n",
    "count = 0\n",
    "for i in check['thalach'] :\n",
    "    if i > 80:\n",
    "        count = count+1\n",
    "print(f\"Higher heart rate count = \",count)\n"
   ]
  },
  {
   "cell_type": "code",
   "execution_count": null,
   "id": "8364a308",
   "metadata": {},
   "outputs": [],
   "source": [
    "plt.scatter(x=df.age[df.target==1], y=df.thalach[(df.target==1)], c=\"red\")\n",
    "plt.scatter(x=df.age[df.target==0], y=df.thalach[(df.target==0)], c=\"green\")\n",
    "plt.legend([\"Disease\", \"Not Disease\"])\n",
    "plt.xlabel(\"Age\")\n",
    "plt.ylabel(\"Maximum Heart Rate\")\n",
    "plt.show()"
   ]
  },
  {
   "cell_type": "markdown",
   "id": "7150fe92",
   "metadata": {},
   "source": [
    "#### The Heart Rate of an healthy person is 60 - 100 beats per minute. From the information we can observe that people have higher heart rate have a posibility of getting a heart disease."
   ]
  },
  {
   "cell_type": "markdown",
   "id": "ca0f45fe",
   "metadata": {},
   "source": [
    "### Ploting histogram to see the distribution of the data"
   ]
  },
  {
   "cell_type": "code",
   "execution_count": 26,
   "id": "ddfe5362",
   "metadata": {},
   "outputs": [
    {
     "data": {
      "image/png": "[encoded data removed]",
      "text/plain": [
       "<Figure size 1080x1440 with 16 Axes>"
      ]
     },
     "metadata": {
      "needs_background": "light"
     },
     "output_type": "display_data"
    }
   ],
   "source": [
    "fig = plt.figure(figsize = (15,20))\n",
    "ax = fig.gca()\n",
    "df.hist(ax = ax)\n",
    "plt.show()"
   ]
  },
  {
   "cell_type": "markdown",
   "id": "2f044494",
   "metadata": {},
   "source": [
    "# MODELLING AND MODEL EVALUATION"
   ]
  },
  {
   "cell_type": "markdown",
   "id": "ad642186",
   "metadata": {},
   "source": [
    "### Splitting dataset into Train test"
   ]
  },
  {
   "cell_type": "code",
   "execution_count": null,
   "id": "6769ac29",
   "metadata": {},
   "outputs": [],
   "source": [
    "y = df[\"target\"]\n",
    "X = df.drop('target',axis=1)\n",
    "X_train, X_test, y_train, y_test = train_test_split(X, y, test_size=0.30, random_state = 0)"
   ]
  },
  {
   "cell_type": "markdown",
   "id": "bf07660c",
   "metadata": {},
   "source": [
    "### Scaling dataset"
   ]
  },
  {
   "cell_type": "code",
   "execution_count": null,
   "id": "a93c49e0",
   "metadata": {},
   "outputs": [],
   "source": [
    "scaler = StandardScaler()\n",
    "X_train = scaler.fit_transform(X_train)\n",
    "X_test = scaler.transform(X_test)\n"
   ]
  },
  {
   "cell_type": "markdown",
   "id": "8d6aca19",
   "metadata": {},
   "source": [
    "### Fitting And Training Model"
   ]
  },
  {
   "cell_type": "markdown",
   "id": "9bca26d4",
   "metadata": {},
   "source": [
    "### Stochastic Gradient Descent Model"
   ]
  },
  {
   "cell_type": "code",
   "execution_count": null,
   "id": "ac75209d",
   "metadata": {},
   "outputs": [],
   "source": [
    "model_sgd = 'Stochastic Gradient Descent'\n",
    "sgdc = SGDClassifier(max_iter=5000, random_state=0)\n",
    "sgdc.fit(X_train, y_train)\n",
    "sgdc_predicted = sgdc.predict(X_test)\n",
    "sgdc_conf_matrix = confusion_matrix(y_test, sgdc_predicted)\n",
    "sgdc_acc_score = accuracy_score(y_test, sgdc_predicted)\n",
    "print(\"Confussion Matrix\")\n",
    "print(sgdc_conf_matrix)\n",
    "print(\"-----------------------------------------------------------------\")\n",
    "print(\"-----------------------------------------------------------------\")\n",
    "print(\"Accuracy of : Stochastic Gradient Descent\",sgdc_acc_score*100)\n",
    "print(\"-----------------------------------------------------------------\")\n",
    "print(\"-----------------------------------------------------------------\")\n",
    "print(classification_report(y_test,sgdc_predicted))"
   ]
  },
  {
   "cell_type": "markdown",
   "id": "8758475f",
   "metadata": {},
   "source": [
    "### K-NeighborsClassifier Model"
   ]
  },
  {
   "cell_type": "code",
   "execution_count": null,
   "id": "c2e33ca1",
   "metadata": {},
   "outputs": [],
   "source": [
    "model_knn = 'K-NeighborsClassifier'\n",
    "knn = KNeighborsClassifier(n_neighbors=10)\n",
    "knn.fit(X_train, y_train)\n",
    "knn_predicted = knn.predict(X_test)\n",
    "knn_conf_matrix = confusion_matrix(y_test, knn_predicted)\n",
    "knn_acc_score = accuracy_score(y_test, knn_predicted)\n",
    "print(\"Confussion matrix\")\n",
    "print(knn_conf_matrix)\n",
    "print(\"-----------------------------------------------------------------\")\n",
    "print(\"-----------------------------------------------------------------\")\n",
    "print(\"Accuracy of K-NeighborsClassifier:\",knn_acc_score*100)\n",
    "print(\"-----------------------------------------------------------------\")\n",
    "print(\"-----------------------------------------------------------------\")\n",
    "print(classification_report(y_test,knn_predicted))"
   ]
  },
  {
   "cell_type": "markdown",
   "id": "61e0fd58",
   "metadata": {},
   "source": [
    "### Extreme Gradient Boost"
   ]
  },
  {
   "cell_type": "code",
   "execution_count": null,
   "id": "6d062112",
   "metadata": {},
   "outputs": [],
   "source": [
    "model_egb = 'Extreme Gradient Boost'\n",
    "xgb = XGBClassifier(learning_rate=0.01, n_estimators=25, max_depth=15,gamma=0.6, subsample=0.52,colsample_bytree=0.6,seed=27, \n",
    "                    reg_lambda=2, booster='dart', colsample_bylevel=0.6, colsample_bynode=0.5)\n",
    "xgb.fit(X_train, y_train)\n",
    "xgb_predicted = xgb.predict(X_test)\n",
    "xgb_conf_matrix = confusion_matrix(y_test, xgb_predicted)\n",
    "xgb_acc_score = accuracy_score(y_test, xgb_predicted)\n",
    "print(\"Confussion matrix\")\n",
    "print(xgb_conf_matrix)\n",
    "print(\"-----------------------------------------------------------------\")\n",
    "print(\"-----------------------------------------------------------------\")\n",
    "print(\"Accuracy of Extreme Gradient Boost:\",xgb_acc_score*100)\n",
    "print(\"-----------------------------------------------------------------\")\n",
    "print(\"-----------------------------------------------------------------\")\n",
    "print(classification_report(y_test,xgb_predicted))"
   ]
  },
  {
   "cell_type": "markdown",
   "id": "6070d4a0",
   "metadata": {},
   "source": [
    "### DecisionTreeClassifier Model"
   ]
  },
  {
   "cell_type": "code",
   "execution_count": null,
   "id": "5e4de869",
   "metadata": {},
   "outputs": [],
   "source": [
    "model_dtc = 'DecisionTreeClassifier'\n",
    "dt = DecisionTreeClassifier(criterion = 'entropy',random_state=0,max_depth = 6)\n",
    "dt.fit(X_train, y_train)\n",
    "dt_predicted = dt.predict(X_test)\n",
    "dt_conf_matrix = confusion_matrix(y_test, dt_predicted)\n",
    "dt_acc_score = accuracy_score(y_test, dt_predicted)\n",
    "print(\"Confussion matrix\")\n",
    "print(dt_conf_matrix)\n",
    "print(\"-----------------------------------------------------------------\")\n",
    "print(\"-----------------------------------------------------------------\")\n",
    "print(\"Accuracy of DecisionTreeClassifier:\",dt_acc_score*100)\n",
    "print(\"-----------------------------------------------------------------\")\n",
    "print(\"-----------------------------------------------------------------\")\n",
    "print(classification_report(y_test,dt_predicted))\n"
   ]
  },
  {
   "cell_type": "markdown",
   "id": "87b95e7d",
   "metadata": {},
   "source": [
    "### Random Forest Classfier Model"
   ]
  },
  {
   "cell_type": "code",
   "execution_count": null,
   "id": "5dba40ee",
   "metadata": {},
   "outputs": [],
   "source": [
    "model_rfc = 'Random Forest Classfier'\n",
    "rf = RandomForestClassifier(n_estimators=20, random_state=12,max_depth=5)\n",
    "rf.fit(X_train,y_train)\n",
    "rf_predicted = rf.predict(X_test)\n",
    "rf_conf_matrix = confusion_matrix(y_test, rf_predicted)\n",
    "rf_acc_score = accuracy_score(y_test, rf_predicted)\n",
    "print(\"Confussion matrix\")\n",
    "print(rf_conf_matrix)\n",
    "print(\"-----------------------------------------------------------------\")\n",
    "print(\"-----------------------------------------------------------------\")\n",
    "print(\"Accuracy of Random Forest:\",rf_acc_score*100)\n",
    "print(\"-----------------------------------------------------------------\")\n",
    "print(\"-----------------------------------------------------------------\")\n",
    "print(classification_report(y_test,rf_predicted))"
   ]
  },
  {
   "cell_type": "markdown",
   "id": "caf0e18a",
   "metadata": {},
   "source": [
    "### Model Comparison"
   ]
  },
  {
   "cell_type": "code",
   "execution_count": null,
   "id": "ccc904ab",
   "metadata": {},
   "outputs": [],
   "source": [
    "model_ev = pd.DataFrame({'Model': ['Stochastic Gradient Descent','K-Nearest Neighbour','Extreme Gradient Boost','Decision Tree','Random Forest'], \n",
    "                        'Accuracy':[ sgdc_acc_score*100, knn_acc_score*100,xgb_acc_score*100,dt_acc_score*100, rf_acc_score*100 ]})\n",
    "model_ev"
   ]
  },
  {
   "cell_type": "markdown",
   "id": "a6fa97c1",
   "metadata": {},
   "source": [
    "### Graphical Model Comparison"
   ]
  },
  {
   "cell_type": "code",
   "execution_count": null,
   "id": "fcbf7bbe",
   "metadata": {},
   "outputs": [],
   "source": [
    "colors = ['red','green','blue','gold','silver','yellow','orange','magenta', 'cyan']\n",
    "plt.figure(figsize=(12,5))\n",
    "plt.title(\"barplot Represent Accuracy of different models\")\n",
    "plt.xlabel(\"Accuracy %\")\n",
    "plt.xticks(rotation=90)\n",
    "plt.ylabel(\"Algorithms\")\n",
    "plt.bar(model_ev['Model'],model_ev['Accuracy'],color = colors)\n",
    "plt.show()"
   ]
  },
  {
   "cell_type": "code",
   "execution_count": null,
   "id": "959c99b9",
   "metadata": {},
   "outputs": [],
   "source": []
  }
 ],
 "metadata": {
  "kernelspec": {
   "display_name": "Python 3",
   "language": "python",
   "name": "python3"
  },
  "language_info": {
   "codemirror_mode": {
    "name": "ipython",
    "version": 3
   },
   "file_extension": ".py",
   "mimetype": "text/x-python",
   "name": "python",
   "nbconvert_exporter": "python",
   "pygments_lexer": "ipython3",
   "version": "3.9.3"
  }
 },
 "nbformat": 4,
 "nbformat_minor": 5
}
